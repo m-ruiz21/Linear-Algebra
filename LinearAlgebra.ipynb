{
  "nbformat": 4,
  "nbformat_minor": 0,
  "metadata": {
    "colab": {
      "provenance": [],
      "authorship_tag": "ABX9TyONmK5SRyHxGcFiN8jcCz0/",
      "include_colab_link": true
    },
    "kernelspec": {
      "name": "python3",
      "display_name": "Python 3"
    },
    "language_info": {
      "name": "python"
    }
  },
  "cells": [
    {
      "cell_type": "markdown",
      "metadata": {
        "id": "view-in-github",
        "colab_type": "text"
      },
      "source": [
        "<a href=\"https://colab.research.google.com/github/m-ruiz21/Linear-Algebra/blob/main/LinearAlgebra.ipynb\" target=\"_parent\"><img src=\"https://colab.research.google.com/assets/colab-badge.svg\" alt=\"Open In Colab\"/></a>"
      ]
    },
    {
      "cell_type": "markdown",
      "source": [
        "#Actual Code#"
      ],
      "metadata": {
        "id": "sDTrcwB65_vA"
      }
    },
    {
      "cell_type": "code",
      "source": [
        "def M(i:int, j:int, A:list) -> list:\n",
        "  return [row[:j] + row[j+1:] for row in (A[:i] + A[i+1:])]\n",
        "  "
      ],
      "metadata": {
        "id": "Y7S6_d3s70ol"
      },
      "execution_count": 154,
      "outputs": []
    },
    {
      "cell_type": "code",
      "execution_count": 170,
      "metadata": {
        "id": "cG65GTtX5n8o"
      },
      "outputs": [],
      "source": [
        "def det(A : list) -> int:\n",
        "  if len(A) == 0:\n",
        "    return 1\n",
        "  if len(A) != len(A[0]):\n",
        "    raise Exception(\"Array given is not an nxn matrix\")\n",
        "  if len(A) == 1:\n",
        "    return A[0][0]\n",
        "  if len(A) == 2:\n",
        "    return (A[0][0] * A[1][1]) - (A[0][1] * A[1][0])\n",
        "  \n",
        "  res:int = 0\n",
        "  j:int = 0\n",
        "  for i in range(len(A)):\n",
        "    res += A[i][j] * (-1)**(i) * det(M(i, j, A))    # not i + 1 because index starts at 0\n",
        "\n",
        "  return res"
      ]
    },
    {
      "cell_type": "markdown",
      "source": [
        "# Test Code #"
      ],
      "metadata": {
        "id": "mantcTOg_ftP"
      }
    },
    {
      "cell_type": "markdown",
      "source": [
        "Struct that holds results from testing"
      ],
      "metadata": {
        "id": "fjWDJHy57BVx"
      }
    },
    {
      "cell_type": "code",
      "source": [
        "from dataclasses import dataclass\n",
        "@dataclass\n",
        "class Result:\n",
        "    success: bool\n",
        "    calculated_val: float\n",
        "    true_val: float"
      ],
      "metadata": {
        "id": "gqEq44QyH8Qi"
      },
      "execution_count": 139,
      "outputs": []
    },
    {
      "cell_type": "markdown",
      "source": [
        "Tests det function   \n",
        "param:: A:list - 2D n x n matrix "
      ],
      "metadata": {
        "id": "_cvhwq5_7L-x"
      }
    },
    {
      "cell_type": "code",
      "source": [
        "import numpy as np\n",
        "\n",
        "def test_det(A:list) -> Result:\n",
        "  calc_val:int = det(A)\n",
        "  actual_val:int = int(np.linalg.det(np.array(A)))\n",
        "\n",
        "  if (calc_val == actual_val):\n",
        "    return Result(True, calc_val, actual_val)\n",
        "  else:\n",
        "    return Result(False, calc_val, actual_val)"
      ],
      "metadata": {
        "id": "FmRG8sZfGCtG"
      },
      "execution_count": 140,
      "outputs": []
    },
    {
      "cell_type": "markdown",
      "source": [
        "Tests det function  \n",
        "param:: A:list - 2D n x n matrix"
      ],
      "metadata": {
        "id": "dYjnLSfx7tzq"
      }
    },
    {
      "cell_type": "code",
      "source": [
        "def test_M(A:list, i:int, j:int, true_val:list) -> Result:\n",
        "  calc_val:list = M(i, j, A)\n",
        "  return Result(calc_val == true_val, calc_val, true_val)"
      ],
      "metadata": {
        "id": "8EvC6gzQHMNb"
      },
      "execution_count": 141,
      "outputs": []
    },
    {
      "cell_type": "markdown",
      "source": [
        "Main Test Runner\n",
        "param:: A:list - 2D nxn matrix   \n",
        "param:: M_params - params needed to test M function"
      ],
      "metadata": {
        "id": "RWTy9b1E_N92"
      }
    },
    {
      "cell_type": "code",
      "source": [
        "def run_test(function:str, A:list, **M_params) -> None:\n",
        "  if (function == \"det\"):\n",
        "    result = test_det(A)\n",
        "  elif (function == \"M\"):  \n",
        "    result = test_M(A, M_params[\"i\"], M_params[\"j\"], M_params[\"expected\"])\n",
        "  else:\n",
        "    print(\"INVALID FUNCTION TO TEST\")\n",
        "    raise Exception(\"Invalid function to test, function '\" + function + \"' does not exist\")\n",
        "\n",
        "  if result.success:\n",
        "    print(\"[Test Passed]\")\n",
        "  else:\n",
        "    raise Exception(\n",
        "        \"\\n!![Test Failure]!!\\n\" +\n",
        "        \"-------------------\\n\" +\n",
        "        \"Expected:: \" + str(result.true_val) + \"\\n\" +\n",
        "        \"Got:: \" + str(result.calculated_val) + \"\\n\" +\n",
        "        \"-------------------\"\n",
        "    )"
      ],
      "metadata": {
        "id": "J9awhf4h_rDt"
      },
      "execution_count": 142,
      "outputs": []
    },
    {
      "cell_type": "markdown",
      "source": [
        "# Tests #"
      ],
      "metadata": {
        "id": "W3mq_2Rx_xs6"
      }
    },
    {
      "cell_type": "code",
      "source": [
        "A = [\n",
        "  [1, 2, 3], \n",
        "  [3, 0 , -1],\n",
        "  [4, -2, 1]   \n",
        "]\n",
        "\n",
        "expected = [\n",
        "    [0, -1], \n",
        "    [-2, 1]\n",
        "]\n",
        "\n",
        "run_test(\"M\", A, i = 0, j = 0, expected = expected)"
      ],
      "metadata": {
        "colab": {
          "base_uri": "https://localhost:8080/"
        },
        "id": "0Ubzph3h6mEo",
        "outputId": "24e99908-8f96-45cd-ce1c-1c0a814f53f8"
      },
      "execution_count": 184,
      "outputs": [
        {
          "output_type": "stream",
          "name": "stdout",
          "text": [
            "[Test Passed]\n"
          ]
        }
      ]
    },
    {
      "cell_type": "code",
      "source": [
        "A = [\n",
        "    [50, 29, 12], \n",
        "    [30, 44, 20],\n",
        "    [0, 55, 12] \n",
        "]\n",
        "run_test(\"det\", A)"
      ],
      "metadata": {
        "colab": {
          "base_uri": "https://localhost:8080/"
        },
        "id": "u55-fuKA6oCv",
        "outputId": "f647721d-a507-4b3e-e964-f3080d593d81"
      },
      "execution_count": 185,
      "outputs": [
        {
          "output_type": "stream",
          "name": "stdout",
          "text": [
            "[Test Passed]\n"
          ]
        }
      ]
    },
    {
      "cell_type": "code",
      "source": [
        "A = [\n",
        "    [50, 29], \n",
        "    [30, 44]\n",
        "]\n",
        "run_test(\"det\", A)"
      ],
      "metadata": {
        "colab": {
          "base_uri": "https://localhost:8080/"
        },
        "id": "DvL0qLbl6jXz",
        "outputId": "292f019d-a572-46f7-abe6-9f7243730888"
      },
      "execution_count": 186,
      "outputs": [
        {
          "output_type": "stream",
          "name": "stdout",
          "text": [
            "[Test Passed]\n"
          ]
        }
      ]
    },
    {
      "cell_type": "code",
      "source": [
        "A = [\n",
        "    [ 2 ]\n",
        "]\n",
        "run_test(\"det\", A)"
      ],
      "metadata": {
        "colab": {
          "base_uri": "https://localhost:8080/"
        },
        "id": "Yb63V2bbBwYg",
        "outputId": "84e36bc6-ac3b-41ca-9400-ec31c423f5b8"
      },
      "execution_count": 187,
      "outputs": [
        {
          "output_type": "stream",
          "name": "stdout",
          "text": [
            "[Test Passed]\n"
          ]
        }
      ]
    },
    {
      "cell_type": "code",
      "source": [
        "A = [\n",
        "    [1, 2]\n",
        "]\n",
        "try:\n",
        "  result:list = det(A)\n",
        "  raise Exception(\n",
        "        \"\\n!![Test Failure]!!\\n\" +\n",
        "        \"-------------------\\n\" +\n",
        "        \"Expected:: thrown exception \\n\" +\n",
        "        \"Got:: \" + str(result) + \"\\n\" +\n",
        "        \"-------------------\"\n",
        "    )\n",
        "except:\n",
        "  print(\"[Test Passed]\")"
      ],
      "metadata": {
        "colab": {
          "base_uri": "https://localhost:8080/"
        },
        "id": "ZXq3-Uo_-AHw",
        "outputId": "b10fcd81-07bb-419d-97f7-3b6c887a4502"
      },
      "execution_count": 188,
      "outputs": [
        {
          "output_type": "stream",
          "name": "stdout",
          "text": [
            "[Test Passed]\n"
          ]
        }
      ]
    },
    {
      "cell_type": "markdown",
      "source": [
        "#Main#"
      ],
      "metadata": {
        "id": "XEp4aeu8--WV"
      }
    },
    {
      "cell_type": "code",
      "source": [
        "# put your A x A matric here\n",
        "A = [\n",
        "    [50, 29, 12], \n",
        "    [30, 44, 20],\n",
        "    [0, 55, 12] \n",
        "]\n",
        "\n",
        "print(det(A))"
      ],
      "metadata": {
        "colab": {
          "base_uri": "https://localhost:8080/"
        },
        "id": "I0S3nU4G_BSH",
        "outputId": "9895eb4d-4909-4649-b8b6-7b89c5de68e9"
      },
      "execution_count": 183,
      "outputs": [
        {
          "output_type": "stream",
          "name": "stdout",
          "text": [
            "-19240\n"
          ]
        }
      ]
    }
  ]
}